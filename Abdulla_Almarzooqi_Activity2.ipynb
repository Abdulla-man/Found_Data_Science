{
  "nbformat": 4,
  "nbformat_minor": 0,
  "metadata": {
    "colab": {
      "provenance": [],
      "include_colab_link": true
    },
    "kernelspec": {
      "name": "python3",
      "display_name": "Python 3"
    },
    "language_info": {
      "name": "python"
    }
  },
  "cells": [
    {
      "cell_type": "markdown",
      "metadata": {
        "id": "view-in-github",
        "colab_type": "text"
      },
      "source": [
        "<a href=\"https://colab.research.google.com/github/Abdulla-man/Found_Data_Science/blob/main/Abdulla_Almarzooqi_Activity2.ipynb\" target=\"_parent\"><img src=\"https://colab.research.google.com/assets/colab-badge.svg\" alt=\"Open In Colab\"/></a>"
      ]
    },
    {
      "cell_type": "markdown",
      "source": [
        "# Activity #2 (5 marks)"
      ],
      "metadata": {
        "id": "9Hr2lLFuZjja"
      }
    },
    {
      "cell_type": "markdown",
      "source": [
        "\n",
        "Class Activity: Analyzing NYC Hyperlocal Air Quality Data with Spatial Join"
      ],
      "metadata": {
        "id": "bEtXiTwI-yIv"
      }
    },
    {
      "cell_type": "markdown",
      "source": [
        "# Objective:\n",
        "- This activity reinforces concepts from Chapters 6 (Tables), 7 (Visualization), 8 (Functions and Tables), and 9 (Randomness). Students will analyze NYC hyperlocal air quality data using Python in a Jupyter Notebook (Google Colab). The focus will be on leveraging the Table abstraction wherever possible. Additionally, students will use spatial join techniques to combine air quality sensor readings with geographic data."
      ],
      "metadata": {
        "id": "6i3-zemYyZAu"
      }
    },
    {
      "cell_type": "markdown",
      "source": [
        "given a csv file containing longitude, latitude , and pm10  columns [Air Quality data](https://raw.githubusercontent.com/IsamAljawarneh/datasets/master/data/NYC_PM.csv) representing readings of low cost air quality sensor mounted on moving vehicles, in addition to a geojson file containing polygons representing administrative divisions of NYC city known as neighbourhoods [nyc_polygon.geojson](https://raw.githubusercontent.com/IsamAljawarneh/datasets/master/data/nyc_polygon.geojson).\n",
        "# Dataset Description\n",
        "- Air Quality Sensor Readings (NYC_PM.csv) :\n",
        "Attributes: SensorID, time, temperature, humidity, pm25,\n",
        "Focus attributes: temperature, humidity, pm1,pm25,pm10,\n",
        "- City Polygons (nyc_polygon.geojson) :\n",
        "Contains polygons representing neighborhoods or boroughs in NYC.\n",
        "Used for spatially joining geographic information with air quality data."
      ],
      "metadata": {
        "id": "MnPCkUN9-lzy"
      }
    },
    {
      "cell_type": "markdown",
      "source": [
        "## **part - A** preprocessing [0 marks]\n",
        "\n",
        "do all tasks and the subtasks!"
      ],
      "metadata": {
        "id": "_kuVRsJkAh9n"
      }
    },
    {
      "cell_type": "markdown",
      "source": [
        "# Onboarding Code Provided\n",
        "- The following code will be provided in an onboarding Jupyter Notebook to help students get started:\n",
        "\n"
      ],
      "metadata": {
        "id": "cXRH1R-SzPAs"
      }
    },
    {
      "cell_type": "code",
      "source": [
        "'''from google.colab import drive\n",
        "drive.mount('/content/drive')'''"
      ],
      "metadata": {
        "colab": {
          "base_uri": "https://localhost:8080/",
          "height": 35
        },
        "id": "R4ArO-FctZIu",
        "outputId": "eb27df5f-f097-49c8-90bd-bb897bdad990"
      },
      "execution_count": 26,
      "outputs": [
        {
          "output_type": "execute_result",
          "data": {
            "text/plain": [
              "\"from google.colab import drive\\ndrive.mount('/content/drive')\""
            ],
            "application/vnd.google.colaboratory.intrinsic+json": {
              "type": "string"
            }
          },
          "metadata": {},
          "execution_count": 26
        }
      ]
    },
    {
      "cell_type": "markdown",
      "source": [
        "import necessary libraries"
      ],
      "metadata": {
        "id": "9o9eM8IICM-1"
      }
    },
    {
      "cell_type": "code",
      "source": [
        "import pandas as pd\n",
        "import geopandas as gpd\n",
        "import numpy as np\n",
        "import matplotlib.pyplot as plt"
      ],
      "metadata": {
        "id": "DIyY1q36ta3G"
      },
      "execution_count": 27,
      "outputs": []
    },
    {
      "cell_type": "code",
      "source": [
        "from datascience import *\n",
        "%matplotlib inline\n",
        "#path_data = '../../../assets/data/'\n",
        "import matplotlib.pyplot as plt\n",
        "plt.style.use('fivethirtyeight')\n",
        "import numpy as np"
      ],
      "metadata": {
        "id": "8ipkPRynmWGz"
      },
      "execution_count": 28,
      "outputs": []
    },
    {
      "cell_type": "markdown",
      "source": [
        "###1. Read the CSV file containing PM sensor readings\n",
        " & Read the GeoJSON file containing neighborhood boundaries into a GeoDataFrame"
      ],
      "metadata": {
        "id": "11VvbD-a6ur8"
      }
    },
    {
      "cell_type": "code",
      "source": [
        "\n",
        "# Step 1: Read the CSV file containing PM10 sensor readings\n",
        "pm10_data = pd.read_csv('https://raw.githubusercontent.com/IsamAljawarneh/datasets/master/data/NYC_PM.csv',index_col=False)\n",
        "\n",
        "# Step 2: Read the GeoJSON file containing neighborhood boundaries into a GeoDataFrame\n",
        "nyc_neighborhoods = gpd.read_file('https://raw.githubusercontent.com/IsamAljawarneh/datasets/master/data/nyc_polygon.geojson')\n"
      ],
      "metadata": {
        "id": "CYk7KfJqueQW"
      },
      "execution_count": 29,
      "outputs": []
    },
    {
      "cell_type": "code",
      "source": [
        "#pm10_data.dtypes"
      ],
      "metadata": {
        "id": "VAMLIDAKu289"
      },
      "execution_count": 30,
      "outputs": []
    },
    {
      "cell_type": "markdown",
      "source": [
        "### 2. convert the csv into a geodataframe and join it (sjoin) with the geojson, assign a coordinate reference system (CRS) the csv geodataframe which is identical to that of the geojson file, then perform the join, the result is a geodataframe, convert it to dataframe, and select pm10, neighborhood columns in a new dataframe"
      ],
      "metadata": {
        "id": "tKKuGLIl682s"
      }
    },
    {
      "cell_type": "code",
      "source": [
        "pm10_gdf = gpd.GeoDataFrame(pm10_data, geometry=gpd.points_from_xy(pm10_data.longitude, pm10_data.latitude))\n",
        "merged_data = gpd.sjoin(pm10_gdf, nyc_neighborhoods, how='inner', predicate='within')"
      ],
      "metadata": {
        "id": "LDdZ3JM9vABk",
        "colab": {
          "base_uri": "https://localhost:8080/"
        },
        "outputId": "1c165d21-5ea2-48f4-a8d0-69cc658ca9ad"
      },
      "execution_count": 31,
      "outputs": [
        {
          "output_type": "stream",
          "name": "stderr",
          "text": [
            "<ipython-input-31-d43866676e2a>:2: UserWarning: CRS mismatch between the CRS of left geometries and the CRS of right geometries.\n",
            "Use `to_crs()` to reproject one of the input geometries to match the CRS of the other.\n",
            "\n",
            "Left CRS: None\n",
            "Right CRS: EPSG:4326\n",
            "\n",
            "  merged_data = gpd.sjoin(pm10_gdf, nyc_neighborhoods, how='inner', predicate='within')\n"
          ]
        }
      ]
    },
    {
      "cell_type": "code",
      "source": [
        "#merged_data.dtypes"
      ],
      "metadata": {
        "id": "4YTL56jpvPDW"
      },
      "execution_count": 32,
      "outputs": []
    },
    {
      "cell_type": "code",
      "source": [
        "pollution_data = merged_data[['pm10','neighborhood']]"
      ],
      "metadata": {
        "id": "1XPU0kp4hwnf"
      },
      "execution_count": 33,
      "outputs": []
    },
    {
      "cell_type": "code",
      "source": [
        "pollution_data.shape[0]"
      ],
      "metadata": {
        "colab": {
          "base_uri": "https://localhost:8080/"
        },
        "id": "T3gx_my1iAoi",
        "outputId": "ba84fce9-b7ee-4a69-c7b9-5565bb391a5f"
      },
      "execution_count": 34,
      "outputs": [
        {
          "output_type": "execute_result",
          "data": {
            "text/plain": [
              "118495"
            ]
          },
          "metadata": {},
          "execution_count": 34
        }
      ]
    },
    {
      "cell_type": "code",
      "source": [
        "#merged_data.rename(columns={'neighborhood': 'neighborhood1'}, inplace=True)"
      ],
      "metadata": {
        "id": "P4M9bOYqy09e"
      },
      "execution_count": 35,
      "outputs": []
    },
    {
      "cell_type": "code",
      "source": [
        "type(pollution_data)"
      ],
      "metadata": {
        "colab": {
          "base_uri": "https://localhost:8080/",
          "height": 203
        },
        "id": "a8C-waCXk8JE",
        "outputId": "3c42cc44-fbf2-4644-faae-41148fb9254e"
      },
      "execution_count": 36,
      "outputs": [
        {
          "output_type": "execute_result",
          "data": {
            "text/plain": [
              "pandas.core.frame.DataFrame"
            ],
            "text/html": [
              "<div style=\"max-width:800px; border: 1px solid var(--colab-border-color);\"><style>\n",
              "      pre.function-repr-contents {\n",
              "        overflow-x: auto;\n",
              "        padding: 8px 12px;\n",
              "        max-height: 500px;\n",
              "      }\n",
              "\n",
              "      pre.function-repr-contents.function-repr-contents-collapsed {\n",
              "        cursor: pointer;\n",
              "        max-height: 100px;\n",
              "      }\n",
              "    </style>\n",
              "    <pre style=\"white-space: initial; background:\n",
              "         var(--colab-secondary-surface-color); padding: 8px 12px;\n",
              "         border-bottom: 1px solid var(--colab-border-color);\"><b>pandas.core.frame.DataFrame</b><br/>def __init__(data=None, index: Axes | None=None, columns: Axes | None=None, dtype: Dtype | None=None, copy: bool | None=None) -&gt; None</pre><pre class=\"function-repr-contents function-repr-contents-collapsed\" style=\"\"><a class=\"filepath\" style=\"display:none\" href=\"#\">/usr/local/lib/python3.11/dist-packages/pandas/core/frame.py</a>Two-dimensional, size-mutable, potentially heterogeneous tabular data.\n",
              "\n",
              "Data structure also contains labeled axes (rows and columns).\n",
              "Arithmetic operations align on both row and column labels. Can be\n",
              "thought of as a dict-like container for Series objects. The primary\n",
              "pandas data structure.\n",
              "\n",
              "Parameters\n",
              "----------\n",
              "data : ndarray (structured or homogeneous), Iterable, dict, or DataFrame\n",
              "    Dict can contain Series, arrays, constants, dataclass or list-like objects. If\n",
              "    data is a dict, column order follows insertion-order. If a dict contains Series\n",
              "    which have an index defined, it is aligned by its index. This alignment also\n",
              "    occurs if data is a Series or a DataFrame itself. Alignment is done on\n",
              "    Series/DataFrame inputs.\n",
              "\n",
              "    If data is a list of dicts, column order follows insertion-order.\n",
              "\n",
              "index : Index or array-like\n",
              "    Index to use for resulting frame. Will default to RangeIndex if\n",
              "    no indexing information part of input data and no index provided.\n",
              "columns : Index or array-like\n",
              "    Column labels to use for resulting frame when data does not have them,\n",
              "    defaulting to RangeIndex(0, 1, 2, ..., n). If data contains column labels,\n",
              "    will perform column selection instead.\n",
              "dtype : dtype, default None\n",
              "    Data type to force. Only a single dtype is allowed. If None, infer.\n",
              "copy : bool or None, default None\n",
              "    Copy data from inputs.\n",
              "    For dict data, the default of None behaves like ``copy=True``.  For DataFrame\n",
              "    or 2d ndarray input, the default of None behaves like ``copy=False``.\n",
              "    If data is a dict containing one or more Series (possibly of different dtypes),\n",
              "    ``copy=False`` will ensure that these inputs are not copied.\n",
              "\n",
              "    .. versionchanged:: 1.3.0\n",
              "\n",
              "See Also\n",
              "--------\n",
              "DataFrame.from_records : Constructor from tuples, also record arrays.\n",
              "DataFrame.from_dict : From dicts of Series, arrays, or dicts.\n",
              "read_csv : Read a comma-separated values (csv) file into DataFrame.\n",
              "read_table : Read general delimited file into DataFrame.\n",
              "read_clipboard : Read text from clipboard into DataFrame.\n",
              "\n",
              "Notes\n",
              "-----\n",
              "Please reference the :ref:`User Guide &lt;basics.dataframe&gt;` for more information.\n",
              "\n",
              "Examples\n",
              "--------\n",
              "Constructing DataFrame from a dictionary.\n",
              "\n",
              "&gt;&gt;&gt; d = {&#x27;col1&#x27;: [1, 2], &#x27;col2&#x27;: [3, 4]}\n",
              "&gt;&gt;&gt; df = pd.DataFrame(data=d)\n",
              "&gt;&gt;&gt; df\n",
              "   col1  col2\n",
              "0     1     3\n",
              "1     2     4\n",
              "\n",
              "Notice that the inferred dtype is int64.\n",
              "\n",
              "&gt;&gt;&gt; df.dtypes\n",
              "col1    int64\n",
              "col2    int64\n",
              "dtype: object\n",
              "\n",
              "To enforce a single dtype:\n",
              "\n",
              "&gt;&gt;&gt; df = pd.DataFrame(data=d, dtype=np.int8)\n",
              "&gt;&gt;&gt; df.dtypes\n",
              "col1    int8\n",
              "col2    int8\n",
              "dtype: object\n",
              "\n",
              "Constructing DataFrame from a dictionary including Series:\n",
              "\n",
              "&gt;&gt;&gt; d = {&#x27;col1&#x27;: [0, 1, 2, 3], &#x27;col2&#x27;: pd.Series([2, 3], index=[2, 3])}\n",
              "&gt;&gt;&gt; pd.DataFrame(data=d, index=[0, 1, 2, 3])\n",
              "   col1  col2\n",
              "0     0   NaN\n",
              "1     1   NaN\n",
              "2     2   2.0\n",
              "3     3   3.0\n",
              "\n",
              "Constructing DataFrame from numpy ndarray:\n",
              "\n",
              "&gt;&gt;&gt; df2 = pd.DataFrame(np.array([[1, 2, 3], [4, 5, 6], [7, 8, 9]]),\n",
              "...                    columns=[&#x27;a&#x27;, &#x27;b&#x27;, &#x27;c&#x27;])\n",
              "&gt;&gt;&gt; df2\n",
              "   a  b  c\n",
              "0  1  2  3\n",
              "1  4  5  6\n",
              "2  7  8  9\n",
              "\n",
              "Constructing DataFrame from a numpy ndarray that has labeled columns:\n",
              "\n",
              "&gt;&gt;&gt; data = np.array([(1, 2, 3), (4, 5, 6), (7, 8, 9)],\n",
              "...                 dtype=[(&quot;a&quot;, &quot;i4&quot;), (&quot;b&quot;, &quot;i4&quot;), (&quot;c&quot;, &quot;i4&quot;)])\n",
              "&gt;&gt;&gt; df3 = pd.DataFrame(data, columns=[&#x27;c&#x27;, &#x27;a&#x27;])\n",
              "...\n",
              "&gt;&gt;&gt; df3\n",
              "   c  a\n",
              "0  3  1\n",
              "1  6  4\n",
              "2  9  7\n",
              "\n",
              "Constructing DataFrame from dataclass:\n",
              "\n",
              "&gt;&gt;&gt; from dataclasses import make_dataclass\n",
              "&gt;&gt;&gt; Point = make_dataclass(&quot;Point&quot;, [(&quot;x&quot;, int), (&quot;y&quot;, int)])\n",
              "&gt;&gt;&gt; pd.DataFrame([Point(0, 0), Point(0, 3), Point(2, 3)])\n",
              "   x  y\n",
              "0  0  0\n",
              "1  0  3\n",
              "2  2  3\n",
              "\n",
              "Constructing DataFrame from Series/DataFrame:\n",
              "\n",
              "&gt;&gt;&gt; ser = pd.Series([1, 2, 3], index=[&quot;a&quot;, &quot;b&quot;, &quot;c&quot;])\n",
              "&gt;&gt;&gt; df = pd.DataFrame(data=ser, index=[&quot;a&quot;, &quot;c&quot;])\n",
              "&gt;&gt;&gt; df\n",
              "   0\n",
              "a  1\n",
              "c  3\n",
              "\n",
              "&gt;&gt;&gt; df1 = pd.DataFrame([1, 2, 3], index=[&quot;a&quot;, &quot;b&quot;, &quot;c&quot;], columns=[&quot;x&quot;])\n",
              "&gt;&gt;&gt; df2 = pd.DataFrame(data=df1, index=[&quot;a&quot;, &quot;c&quot;])\n",
              "&gt;&gt;&gt; df2\n",
              "   x\n",
              "a  1\n",
              "c  3</pre>\n",
              "      <script>\n",
              "      if (google.colab.kernel.accessAllowed && google.colab.files && google.colab.files.view) {\n",
              "        for (const element of document.querySelectorAll('.filepath')) {\n",
              "          element.style.display = 'block'\n",
              "          element.onclick = (event) => {\n",
              "            event.preventDefault();\n",
              "            event.stopPropagation();\n",
              "            google.colab.files.view(element.textContent, 509);\n",
              "          };\n",
              "        }\n",
              "      }\n",
              "      for (const element of document.querySelectorAll('.function-repr-contents')) {\n",
              "        element.onclick = (event) => {\n",
              "          event.preventDefault();\n",
              "          event.stopPropagation();\n",
              "          element.classList.toggle('function-repr-contents-collapsed');\n",
              "        };\n",
              "      }\n",
              "      </script>\n",
              "      </div>"
            ]
          },
          "metadata": {},
          "execution_count": 36
        }
      ]
    },
    {
      "cell_type": "markdown",
      "source": [
        "3. you need to convert</h1></section> from dataframe to Datascience Table. Use the following format: ```Table.from_df(df, keep_index=False)``` read more here\n",
        "[create DS Table from DF](https://www.data8.org/datascience/_autosummary/datascience.tables.Table.from_df.html)\n",
        "\n",
        "**N.B.** <font color='red'>NOW, perform all tasks using the table abstraction as we have learned in the class!</font>"
      ],
      "metadata": {
        "id": "ajH-jZyp8neJ"
      }
    },
    {
      "cell_type": "markdown",
      "source": [
        "the following is the opposite:\n",
        "\n",
        "[Table.to_df](https://www.data8.org/datascience/_autosummary/datascience.tables.Table.to_df.html)"
      ],
      "metadata": {
        "id": "ansU7tkQ9cj5"
      }
    },
    {
      "cell_type": "markdown",
      "source": [
        "what is the maximum pm10 value"
      ],
      "metadata": {
        "id": "2zHvKSpo7nX0"
      }
    },
    {
      "cell_type": "code",
      "source": [
        "pollution_data['pm10'].max()"
      ],
      "metadata": {
        "colab": {
          "base_uri": "https://localhost:8080/"
        },
        "id": "A-Ikgdphzdha",
        "outputId": "60efe719-c5c2-4496-f78e-57d01e33c517"
      },
      "execution_count": 37,
      "outputs": [
        {
          "output_type": "execute_result",
          "data": {
            "text/plain": [
              "87341.71"
            ]
          },
          "metadata": {},
          "execution_count": 37
        }
      ]
    },
    {
      "cell_type": "markdown",
      "source": [
        "what is the maximum pm10 value"
      ],
      "metadata": {
        "id": "RgKB2UJo7rWW"
      }
    },
    {
      "cell_type": "code",
      "source": [
        "pollution_data['pm10'].min()"
      ],
      "metadata": {
        "colab": {
          "base_uri": "https://localhost:8080/"
        },
        "id": "qqANkwbXzmF5",
        "outputId": "3984924d-d73d-4932-b87d-93301bfc1ecb"
      },
      "execution_count": 38,
      "outputs": [
        {
          "output_type": "execute_result",
          "data": {
            "text/plain": [
              "0.0"
            ]
          },
          "metadata": {},
          "execution_count": 38
        }
      ]
    },
    {
      "cell_type": "code",
      "source": [
        "joined_table = Table().from_df(pollution_data)"
      ],
      "metadata": {
        "id": "zsjLIScVmM9a"
      },
      "execution_count": 39,
      "outputs": []
    },
    {
      "cell_type": "markdown",
      "source": [
        "show the first few rows of the table?"
      ],
      "metadata": {
        "id": "KsUXysj_B1T9"
      }
    },
    {
      "cell_type": "code",
      "source": [
        "joined_table.show(2)"
      ],
      "metadata": {
        "colab": {
          "base_uri": "https://localhost:8080/",
          "height": 141
        },
        "id": "lhgoak8vzEfS",
        "outputId": "01a5e462-7a4d-4336-90d6-4d979b0c4ff3"
      },
      "execution_count": 40,
      "outputs": [
        {
          "output_type": "display_data",
          "data": {
            "text/plain": [
              "<IPython.core.display.HTML object>"
            ],
            "text/html": [
              "<table border=\"1\" class=\"dataframe\">\n",
              "    <thead>\n",
              "        <tr>\n",
              "            <th>pm10</th> <th>neighborhood</th>\n",
              "        </tr>\n",
              "    </thead>\n",
              "    <tbody>\n",
              "        <tr>\n",
              "            <td>11.35</td> <td>Bronx Park  </td>\n",
              "        </tr>\n",
              "        <tr>\n",
              "            <td>1.18 </td> <td>Bronx Park  </td>\n",
              "        </tr>\n",
              "    </tbody>\n",
              "</table>\n",
              "<p>... (118493 rows omitted)</p>"
            ]
          },
          "metadata": {}
        }
      ]
    },
    {
      "cell_type": "markdown",
      "source": [
        "print minimum and maximum pm10 values?"
      ],
      "metadata": {
        "id": "zgAZOxbYB56N"
      }
    },
    {
      "cell_type": "code",
      "source": [
        "pm10 = joined_table.column('pm10')\n",
        "min(pm10), max(pm10)"
      ],
      "metadata": {
        "colab": {
          "base_uri": "https://localhost:8080/"
        },
        "id": "19ncrqo0y8l5",
        "outputId": "6c706db2-99df-4791-bb6d-5ef68bf96615"
      },
      "execution_count": 41,
      "outputs": [
        {
          "output_type": "execute_result",
          "data": {
            "text/plain": [
              "(0.0, 87341.710000000006)"
            ]
          },
          "metadata": {},
          "execution_count": 41
        }
      ]
    },
    {
      "cell_type": "markdown",
      "source": [
        "#Instructions for Students\n",
        "-You task is to analyze NYC hyperlocal air quality data using the provided dataset. Complete the following tasks in your Jupyter Notebook. Each task is worth 1 mark , for a total of 5 marks . Use the Table abstraction wherever possible."
      ],
      "metadata": {
        "id": "kkbu-cal0QRc"
      }
    },
    {
      "cell_type": "markdown",
      "source": [
        "# Tasks"
      ],
      "metadata": {
        "id": "lNeAe-ZH0eL2"
      }
    },
    {
      "cell_type": "markdown",
      "source": [
        "###Task 1: Explore the Joined Data Using Tables (1 Mark)\n",
        "- Display the first 5 rows of the joined_table using .show().\n",
        "- Print the number of rows and columns in the table.\n",
        "- Identify any missing values in the table and handle them appropriately (e.g., drop rows with missing values or fill them with a default value)."
      ],
      "metadata": {
        "id": "TdamjDqe7vYk"
      }
    },
    {
      "cell_type": "code",
      "source": [
        "# Display the first 5 rows of the joined_table\n",
        "joined_table.show(5)\n"
      ],
      "metadata": {
        "colab": {
          "base_uri": "https://localhost:8080/",
          "height": 235
        },
        "id": "kXNMzVxSQWa_",
        "outputId": "91dd7e63-9db9-4855-d50b-fc0159a34c14"
      },
      "execution_count": 42,
      "outputs": [
        {
          "output_type": "display_data",
          "data": {
            "text/plain": [
              "<IPython.core.display.HTML object>"
            ],
            "text/html": [
              "<table border=\"1\" class=\"dataframe\">\n",
              "    <thead>\n",
              "        <tr>\n",
              "            <th>pm10</th> <th>neighborhood</th>\n",
              "        </tr>\n",
              "    </thead>\n",
              "    <tbody>\n",
              "        <tr>\n",
              "            <td>11.35</td> <td>Bronx Park  </td>\n",
              "        </tr>\n",
              "        <tr>\n",
              "            <td>1.18 </td> <td>Bronx Park  </td>\n",
              "        </tr>\n",
              "        <tr>\n",
              "            <td>0.76 </td> <td>Bronx Park  </td>\n",
              "        </tr>\n",
              "        <tr>\n",
              "            <td>47.36</td> <td>Bronx Park  </td>\n",
              "        </tr>\n",
              "        <tr>\n",
              "            <td>6.18 </td> <td>Bronx Park  </td>\n",
              "        </tr>\n",
              "    </tbody>\n",
              "</table>\n",
              "<p>... (118490 rows omitted)</p>"
            ]
          },
          "metadata": {}
        }
      ]
    },
    {
      "cell_type": "code",
      "source": [
        "#Print the number of rows and columns in the table.\n",
        "print(\"Number of rows: \",joined_table.num_rows)\n",
        "print(\"Number of columns: \",joined_table.num_columns)"
      ],
      "metadata": {
        "colab": {
          "base_uri": "https://localhost:8080/"
        },
        "id": "vU-SZ65xQlej",
        "outputId": "e1f49c8c-e910-4c9e-f97c-6892de71de39"
      },
      "execution_count": 43,
      "outputs": [
        {
          "output_type": "stream",
          "name": "stdout",
          "text": [
            "Number of rows:  118495\n",
            "Number of columns:  2\n"
          ]
        }
      ]
    },
    {
      "cell_type": "code",
      "source": [
        "# Identify any missing values in the table then display them\n",
        "\n",
        "missingCol1 = joined_table.where('pm10', are.equal_to(np.nan))\n",
        "missingCol2 = joined_table.where('neighborhood', are.equal_to(np.nan))\n",
        "print(\"Column 1 missing values: \", missingCol1.num_rows )\n",
        "print(\"Column 2 missing values: \", missingCol2.num_rows )\n",
        "\n",
        "# No missing values found"
      ],
      "metadata": {
        "colab": {
          "base_uri": "https://localhost:8080/"
        },
        "id": "OAh-vOEGQ53b",
        "outputId": "8274c17e-54c6-4366-f620-6aeb31fac497"
      },
      "execution_count": 44,
      "outputs": [
        {
          "output_type": "stream",
          "name": "stdout",
          "text": [
            "Column 1 missing values:  0\n",
            "Column 2 missing values:  0\n"
          ]
        }
      ]
    },
    {
      "cell_type": "markdown",
      "source": [
        "# Task 2: Create Summary Statistics Using Table Operations (1 Mark)\n",
        "\n",
        "- Compute summary statistics (mean, median, min, max) for the attributes temperature, humidity, and pm25 using table operations like .column() and .apply().\n",
        "- Group the data by borough and calculate the average pm25 levels for each borough using .group() or .pivot().\n",
        "- Display the results in a new table."
      ],
      "metadata": {
        "id": "XTjfxfG209Ia"
      }
    },
    {
      "cell_type": "code",
      "source": [
        "#dataframe into a Table abstraction\n",
        "table1 = Table().from_df(merged_data)"
      ],
      "metadata": {
        "id": "5ltU8FUXKXMd"
      },
      "execution_count": 45,
      "outputs": []
    },
    {
      "cell_type": "code",
      "source": [
        "# show first 10 rows\n",
        "table1.show(10)"
      ],
      "metadata": {
        "colab": {
          "base_uri": "https://localhost:8080/",
          "height": 759
        },
        "id": "_4RyQ3KqKW73",
        "outputId": "cb4116ee-774b-4616-d826-8dd88cbedadf"
      },
      "execution_count": 46,
      "outputs": [
        {
          "output_type": "display_data",
          "data": {
            "text/plain": [
              "<IPython.core.display.HTML object>"
            ],
            "text/html": [
              "<table border=\"1\" class=\"dataframe\">\n",
              "    <thead>\n",
              "        <tr>\n",
              "            <th>SensorID</th> <th>time</th> <th>latitude</th> <th>longitude</th> <th>bin0</th> <th>bin1</th> <th>bin2</th> <th>bin3</th> <th>bin4</th> <th>bin5</th> <th>bin6</th> <th>bin7</th> <th>bin8</th> <th>bin9</th> <th>bin10</th> <th>bin11</th> <th>bin12</th> <th>bin13</th> <th>bin14</th> <th>bin15</th> <th>bin16</th> <th>bin17</th> <th>bin18</th> <th>bin19</th> <th>bin20</th> <th>bin21</th> <th>bin22</th> <th>bin23</th> <th>temperature</th> <th>humidity</th> <th>pm1</th> <th>pm25</th> <th>pm10</th> <th>geometry</th> <th>index_right</th> <th>neighborhood</th> <th>boroughCode</th> <th>borough</th> <th>@id</th>\n",
              "        </tr>\n",
              "    </thead>\n",
              "    <tbody>\n",
              "        <tr>\n",
              "            <td>NYCP1_01A</td> <td>1579618560</td> <td>40.8472 </td> <td>-73.8701 </td> <td>23  </td> <td>1   </td> <td>2   </td> <td>0   </td> <td>0   </td> <td>0   </td> <td>1   </td> <td>0   </td> <td>0   </td> <td>0   </td> <td>0    </td> <td>0    </td> <td>0    </td> <td>0    </td> <td>0    </td> <td>0    </td> <td>0    </td> <td>0    </td> <td>0    </td> <td>0    </td> <td>0    </td> <td>0    </td> <td>0    </td> <td>0    </td> <td>16.3       </td> <td>15.2    </td> <td>1.44</td> <td>5.91</td> <td>11.35</td> <td>POINT (-73.870087 40.847183)</td> <td>38         </td> <td>Bronx Park  </td> <td>2          </td> <td>Bronx  </td> <td>http://nyc.pediacities.com/Resource/Neighborhood/Bronx_Park</td>\n",
              "        </tr>\n",
              "        <tr>\n",
              "            <td>NYCP1_01A</td> <td>1579618560</td> <td>40.8472 </td> <td>-73.8701 </td> <td>18  </td> <td>2   </td> <td>1   </td> <td>0   </td> <td>0   </td> <td>0   </td> <td>0   </td> <td>0   </td> <td>0   </td> <td>0   </td> <td>0    </td> <td>0    </td> <td>0    </td> <td>0    </td> <td>0    </td> <td>0    </td> <td>0    </td> <td>0    </td> <td>0    </td> <td>0    </td> <td>0    </td> <td>0    </td> <td>0    </td> <td>0    </td> <td>16.2       </td> <td>15.1    </td> <td>1.05</td> <td>1.18</td> <td>1.18 </td> <td>POINT (-73.870094 40.847183)</td> <td>38         </td> <td>Bronx Park  </td> <td>2          </td> <td>Bronx  </td> <td>http://nyc.pediacities.com/Resource/Neighborhood/Bronx_Park</td>\n",
              "        </tr>\n",
              "        <tr>\n",
              "            <td>NYCP1_01A</td> <td>1579618560</td> <td>40.8472 </td> <td>-73.8701 </td> <td>18  </td> <td>1   </td> <td>0   </td> <td>0   </td> <td>0   </td> <td>0   </td> <td>0   </td> <td>0   </td> <td>0   </td> <td>0   </td> <td>0    </td> <td>0    </td> <td>0    </td> <td>0    </td> <td>0    </td> <td>0    </td> <td>0    </td> <td>0    </td> <td>0    </td> <td>0    </td> <td>0    </td> <td>0    </td> <td>0    </td> <td>0    </td> <td>16.1       </td> <td>15.1    </td> <td>0.74</td> <td>0.76</td> <td>0.76 </td> <td>POINT (-73.870094 40.847179)</td> <td>38         </td> <td>Bronx Park  </td> <td>2          </td> <td>Bronx  </td> <td>http://nyc.pediacities.com/Resource/Neighborhood/Bronx_Park</td>\n",
              "        </tr>\n",
              "        <tr>\n",
              "            <td>NYCP1_01A</td> <td>1579618560</td> <td>40.8472 </td> <td>-73.8701 </td> <td>18  </td> <td>1   </td> <td>2   </td> <td>0   </td> <td>0   </td> <td>0   </td> <td>0   </td> <td>0   </td> <td>1   </td> <td>0   </td> <td>0    </td> <td>0    </td> <td>0    </td> <td>0    </td> <td>0    </td> <td>0    </td> <td>0    </td> <td>0    </td> <td>0    </td> <td>0    </td> <td>0    </td> <td>0    </td> <td>0    </td> <td>0    </td> <td>16.1       </td> <td>15.2    </td> <td>1.15</td> <td>4.48</td> <td>47.36</td> <td>POINT (-73.870094 40.847179)</td> <td>38         </td> <td>Bronx Park  </td> <td>2          </td> <td>Bronx  </td> <td>http://nyc.pediacities.com/Resource/Neighborhood/Bronx_Park</td>\n",
              "        </tr>\n",
              "        <tr>\n",
              "            <td>NYCP1_01A</td> <td>1579618560</td> <td>40.8472 </td> <td>-73.8701 </td> <td>20  </td> <td>3   </td> <td>0   </td> <td>2   </td> <td>2   </td> <td>0   </td> <td>0   </td> <td>0   </td> <td>0   </td> <td>0   </td> <td>0    </td> <td>0    </td> <td>0    </td> <td>0    </td> <td>0    </td> <td>0    </td> <td>0    </td> <td>0    </td> <td>0    </td> <td>0    </td> <td>0    </td> <td>0    </td> <td>0    </td> <td>0    </td> <td>16         </td> <td>15.2    </td> <td>2.13</td> <td>5.77</td> <td>6.18 </td> <td>POINT (-73.870094 40.847179)</td> <td>38         </td> <td>Bronx Park  </td> <td>2          </td> <td>Bronx  </td> <td>http://nyc.pediacities.com/Resource/Neighborhood/Bronx_Park</td>\n",
              "        </tr>\n",
              "        <tr>\n",
              "            <td>NYCP1_01A</td> <td>1579618560</td> <td>40.8472 </td> <td>-73.8701 </td> <td>20  </td> <td>0   </td> <td>0   </td> <td>0   </td> <td>0   </td> <td>0   </td> <td>0   </td> <td>0   </td> <td>0   </td> <td>0   </td> <td>0    </td> <td>0    </td> <td>0    </td> <td>0    </td> <td>0    </td> <td>0    </td> <td>0    </td> <td>0    </td> <td>0    </td> <td>0    </td> <td>0    </td> <td>0    </td> <td>0    </td> <td>0    </td> <td>15.9       </td> <td>15.3    </td> <td>0.72</td> <td>0.73</td> <td>0.73 </td> <td>POINT (-73.870094 40.847176)</td> <td>38         </td> <td>Bronx Park  </td> <td>2          </td> <td>Bronx  </td> <td>http://nyc.pediacities.com/Resource/Neighborhood/Bronx_Park</td>\n",
              "        </tr>\n",
              "        <tr>\n",
              "            <td>NYCP1_01A</td> <td>1579618560</td> <td>40.8472 </td> <td>-73.8701 </td> <td>17  </td> <td>3   </td> <td>1   </td> <td>0   </td> <td>0   </td> <td>0   </td> <td>0   </td> <td>0   </td> <td>0   </td> <td>0   </td> <td>0    </td> <td>0    </td> <td>0    </td> <td>0    </td> <td>0    </td> <td>0    </td> <td>0    </td> <td>0    </td> <td>0    </td> <td>0    </td> <td>0    </td> <td>0    </td> <td>0    </td> <td>0    </td> <td>15.8       </td> <td>15.4    </td> <td>1.09</td> <td>1.22</td> <td>1.22 </td> <td>POINT (-73.870102 40.847172)</td> <td>38         </td> <td>Bronx Park  </td> <td>2          </td> <td>Bronx  </td> <td>http://nyc.pediacities.com/Resource/Neighborhood/Bronx_Park</td>\n",
              "        </tr>\n",
              "        <tr>\n",
              "            <td>NYCP1_01A</td> <td>1579618560</td> <td>40.8472 </td> <td>-73.8701 </td> <td>31  </td> <td>4   </td> <td>0   </td> <td>0   </td> <td>0   </td> <td>1   </td> <td>0   </td> <td>0   </td> <td>0   </td> <td>0   </td> <td>0    </td> <td>0    </td> <td>0    </td> <td>0    </td> <td>0    </td> <td>0    </td> <td>0    </td> <td>0    </td> <td>0    </td> <td>0    </td> <td>0    </td> <td>0    </td> <td>0    </td> <td>0    </td> <td>15.8       </td> <td>15.4    </td> <td>1.69</td> <td>4.57</td> <td>5.82 </td> <td>POINT (-73.870094 40.847176)</td> <td>38         </td> <td>Bronx Park  </td> <td>2          </td> <td>Bronx  </td> <td>http://nyc.pediacities.com/Resource/Neighborhood/Bronx_Park</td>\n",
              "        </tr>\n",
              "        <tr>\n",
              "            <td>NYCP1_01A</td> <td>1579618560</td> <td>40.8472 </td> <td>-73.8701 </td> <td>22  </td> <td>5   </td> <td>0   </td> <td>0   </td> <td>0   </td> <td>0   </td> <td>1   </td> <td>0   </td> <td>0   </td> <td>0   </td> <td>0    </td> <td>0    </td> <td>0    </td> <td>0    </td> <td>0    </td> <td>0    </td> <td>0    </td> <td>0    </td> <td>0    </td> <td>0    </td> <td>0    </td> <td>0    </td> <td>0    </td> <td>0    </td> <td>15.7       </td> <td>15.5    </td> <td>1.33</td> <td>5.61</td> <td>11.04</td> <td>POINT (-73.870102 40.847172)</td> <td>38         </td> <td>Bronx Park  </td> <td>2          </td> <td>Bronx  </td> <td>http://nyc.pediacities.com/Resource/Neighborhood/Bronx_Park</td>\n",
              "        </tr>\n",
              "        <tr>\n",
              "            <td>NYCP1_01A</td> <td>1579618560</td> <td>40.8472 </td> <td>-73.8701 </td> <td>22  </td> <td>5   </td> <td>0   </td> <td>0   </td> <td>0   </td> <td>0   </td> <td>0   </td> <td>0   </td> <td>0   </td> <td>0   </td> <td>0    </td> <td>0    </td> <td>0    </td> <td>0    </td> <td>0    </td> <td>0    </td> <td>0    </td> <td>0    </td> <td>0    </td> <td>0    </td> <td>0    </td> <td>0    </td> <td>0    </td> <td>0    </td> <td>15.6       </td> <td>15.6    </td> <td>1.24</td> <td>1.29</td> <td>1.29 </td> <td>POINT (-73.870094 40.847168)</td> <td>38         </td> <td>Bronx Park  </td> <td>2          </td> <td>Bronx  </td> <td>http://nyc.pediacities.com/Resource/Neighborhood/Bronx_Park</td>\n",
              "        </tr>\n",
              "    </tbody>\n",
              "</table>\n",
              "<p>... (118485 rows omitted)</p>"
            ]
          },
          "metadata": {}
        }
      ]
    },
    {
      "cell_type": "code",
      "source": [
        "# Compute summary statistics (mean, median, min, max) for the attributes temperature, humidity, and pm25 using table operations like .column() and .apply().\n",
        "\n",
        "# Summary stats function (returns mean,median,min,max)\n",
        "def stats(dataArray):\n",
        "  return (np.mean(dataArray), np.median(dataArray), np.min(dataArray), np.max(dataArray))\n",
        "\n",
        "# Stroing the summary stats of each attribute into variables\n",
        "Temp_summary= stats(table1.column('temperature'))\n",
        "Humidty_summary= stats(table1.column('humidity'))\n",
        "pm25_summary= stats(table1.column('pm25'))\n",
        "\n",
        "# Creating and displaying table that shows the summary stats\n",
        "statsTable = Table().with_columns(\n",
        "    'Attribute', ['Temperature', 'Humidity', 'pm25'],\n",
        "    'Mean', make_array(Temp_summary[0], Humidty_summary[0], pm25_summary[0]),\n",
        "    'Median', make_array(Temp_summary[1], Humidty_summary[1], pm25_summary[1]),\n",
        "    'Min', make_array(Temp_summary[2], Humidty_summary[2], pm25_summary[2]),\n",
        "    'Max', make_array(Temp_summary[3], Humidty_summary[3], pm25_summary[3])\n",
        ")\n",
        "\n",
        "statsTable.show()"
      ],
      "metadata": {
        "colab": {
          "base_uri": "https://localhost:8080/",
          "height": 143
        },
        "id": "1P-RRFwOVcrd",
        "outputId": "1dd0b306-a990-4e06-dd63-b505ee7ecda7"
      },
      "execution_count": 47,
      "outputs": [
        {
          "output_type": "display_data",
          "data": {
            "text/plain": [
              "<IPython.core.display.HTML object>"
            ],
            "text/html": [
              "<table border=\"1\" class=\"dataframe\">\n",
              "    <thead>\n",
              "        <tr>\n",
              "            <th>Attribute</th> <th>Mean</th> <th>Median</th> <th>Min</th> <th>Max</th>\n",
              "        </tr>\n",
              "    </thead>\n",
              "    <tbody>\n",
              "        <tr>\n",
              "            <td>Temperature</td> <td>8.24158</td> <td>7.2   </td> <td>-7.9</td> <td>10471  </td>\n",
              "        </tr>\n",
              "        <tr>\n",
              "            <td>Humidity   </td> <td>50.1549</td> <td>46.2  </td> <td>0   </td> <td>104.2  </td>\n",
              "        </tr>\n",
              "        <tr>\n",
              "            <td>pm25       </td> <td>7.37452</td> <td>3.02  </td> <td>0   </td> <td>3267.02</td>\n",
              "        </tr>\n",
              "    </tbody>\n",
              "</table>"
            ]
          },
          "metadata": {}
        }
      ]
    },
    {
      "cell_type": "code",
      "source": [
        "# Group the data by borough and calculate the average pm25 levels for each borough using .group() or .pivot().\n",
        "\n",
        "# Create new table by Select 'borough', 'pm25' then use .group() to calculate the mean\n",
        "\n",
        "borough_pm25_avg = table1.select('borough', 'pm25').group('borough', np.mean)\n",
        "\n",
        "#showing first 10 rows\n",
        "borough_pm25_avg.show(10)"
      ],
      "metadata": {
        "colab": {
          "base_uri": "https://localhost:8080/",
          "height": 175
        },
        "id": "vkvfNuhCVdEZ",
        "outputId": "c0fa70ef-5def-43e8-dd2b-64e61f68e791"
      },
      "execution_count": 48,
      "outputs": [
        {
          "output_type": "display_data",
          "data": {
            "text/plain": [
              "<IPython.core.display.HTML object>"
            ],
            "text/html": [
              "<table border=\"1\" class=\"dataframe\">\n",
              "    <thead>\n",
              "        <tr>\n",
              "            <th>borough</th> <th>pm25 mean</th>\n",
              "        </tr>\n",
              "    </thead>\n",
              "    <tbody>\n",
              "        <tr>\n",
              "            <td>Bronx    </td> <td>7.795    </td>\n",
              "        </tr>\n",
              "        <tr>\n",
              "            <td>Brooklyn </td> <td>1.99695  </td>\n",
              "        </tr>\n",
              "        <tr>\n",
              "            <td>Manhattan</td> <td>2.37332  </td>\n",
              "        </tr>\n",
              "        <tr>\n",
              "            <td>Queens   </td> <td>2.07253  </td>\n",
              "        </tr>\n",
              "    </tbody>\n",
              "</table>"
            ]
          },
          "metadata": {}
        }
      ]
    },
    {
      "cell_type": "markdown",
      "source": [
        "# Task 3: Visualize the Data Using Table-Based Plots (1 Mark)\n",
        "\n",
        "- Create a bar chart showing the average pm25 levels for each borough using .barh().\n",
        "- Create a scatter plot to visualize the relationship between temperature and pm25 using .scatter(). Add appropriate labels and a title to the plot.\n",
        "- Create a histogram of humidity values across all neighborhoods using .hist()."
      ],
      "metadata": {
        "id": "2SD9uVHI1oNW"
      }
    },
    {
      "cell_type": "code",
      "source": [
        "# Create a bar chart showing the average pm25 levels for each borough using .barh().\n",
        "\n",
        "borough_pm25_avg.sort('pm25 mean', descending=True).barh('borough')"
      ],
      "metadata": {
        "colab": {
          "base_uri": "https://localhost:8080/",
          "height": 410
        },
        "id": "ShWgtZiqfPxQ",
        "outputId": "89f51402-ee62-4905-dc3b-01712d05657b"
      },
      "execution_count": 49,
      "outputs": [
        {
          "output_type": "display_data",
          "data": {
            "text/plain": [
              "<Figure size 600x400 with 1 Axes>"
            ],
            "image/png": "[encoded data removed]"
          },
          "metadata": {}
        }
      ]
    },
    {
      "cell_type": "code",
      "source": [
        "#Create a scatter plot to visualize the relationship between temperature and pm25 using .scatter(). Add appropriate labels and a title to the plot.\n",
        "\n",
        "#removing outliers from table1 and then creating the scatter plot\n",
        "newTable = table1.where(table1.column('pm25') < 1500)\n",
        "newTable = newTable.where(newTable.column('temperature') < 800)\n",
        "\n",
        "newTable.scatter('temperature', 'pm25')\n",
        "\n",
        "# labeling and putting a title and then displaying the scatter plot\n",
        "plt.xlabel('Temperature')\n",
        "plt.ylabel('PM25')\n",
        "plt.title('Temperature vs PM25')\n",
        "plt.show()"
      ],
      "metadata": {
        "colab": {
          "base_uri": "https://localhost:8080/",
          "height": 521
        },
        "id": "ibSEAfVXftAN",
        "outputId": "39da525c-f21b-4858-8c0f-457152155b07"
      },
      "execution_count": 50,
      "outputs": [
        {
          "output_type": "display_data",
          "data": {
            "text/plain": [
              "<Figure size 500x500 with 1 Axes>"
            ],
            "image/png": "[encoded data removed]"
          },
          "metadata": {}
        }
      ]
    },
    {
      "cell_type": "code",
      "source": [
        "#Create a histogram of humidity values across all neighborhoods using .hist().\n",
        "table_hist = table1.select('humidity')\n",
        "\n",
        "#making histogram for using bins=15\n",
        "table_hist.hist('humidity', bins=15)\n",
        "\n",
        "# labeling and putting a title to the plot then displaying the histogram\n",
        "plt.xlabel('Humidity')\n",
        "plt.ylabel('Neighborhoods')\n",
        "plt.title('Humidity Distribution by Neighborhoods')\n",
        "plt.show()"
      ],
      "metadata": {
        "colab": {
          "base_uri": "https://localhost:8080/",
          "height": 440
        },
        "id": "Gm96x8sKhBNk",
        "outputId": "615a3dec-2180-45a7-a7a3-cecf982d5cac"
      },
      "execution_count": 51,
      "outputs": [
        {
          "output_type": "display_data",
          "data": {
            "text/plain": [
              "<Figure size 600x400 with 1 Axes>"
            ],
            "image/png": "[encoded data removed]"
          },
          "metadata": {}
        }
      ]
    },
    {
      "cell_type": "markdown",
      "source": [
        "# Task 4: Define and Use Functions with Tables (1 Mark)\n",
        "\n",
        "- Write a function calculate_pm25_category(pm25) that categorizes PM2.5 levels as follows:\n",
        "\"Good\" if pm25 < 12\n",
        "\"Moderate\" if 12 <= pm25 < 35\n",
        "\"Unhealthy\" if pm25 >= 35\n",
        "- Apply this function to the pm25 column in the table using .apply() to create a new column called PM25_Category.\n",
        "- Count the number of sensors in each PM2.5 category and display the results using .group().\n"
      ],
      "metadata": {
        "id": "xTWFUDGX1v1F"
      }
    },
    {
      "cell_type": "code",
      "source": [
        "#Write a function calculate_pm25_category(pm25) that categorizes PM2.5 levels as follows: \"Good\" if pm25 < 12 \"Moderate\" if 12 <= pm25 < 35 \"Unhealthy\" if pm25 >= 35\n",
        "\n",
        "def calculate_pm25_category(pm25):\n",
        "    if pm25 < 12:\n",
        "        return \"Good\"\n",
        "    elif 12 <= pm25 < 35:\n",
        "        return \"Moderate\"\n",
        "    else:\n",
        "        return \"Unhealthy\"\n"
      ],
      "metadata": {
        "id": "M44GuwgfL36p"
      },
      "execution_count": 52,
      "outputs": []
    },
    {
      "cell_type": "code",
      "source": [
        "# Apply function to pm25 to table1 and create new column called PM25_Category\n",
        "categTable = table1.with_column('PM25_Category', table1.apply(calculate_pm25_category, 'pm25'))\n",
        "\n",
        "# Display first 10 rows\n",
        "table1.show(10)"
      ],
      "metadata": {
        "colab": {
          "base_uri": "https://localhost:8080/",
          "height": 759
        },
        "id": "on9iSdwhMxox",
        "outputId": "6672ac2d-3e57-40d8-9559-c4b957ff8558"
      },
      "execution_count": 53,
      "outputs": [
        {
          "output_type": "display_data",
          "data": {
            "text/plain": [
              "<IPython.core.display.HTML object>"
            ],
            "text/html": [
              "<table border=\"1\" class=\"dataframe\">\n",
              "    <thead>\n",
              "        <tr>\n",
              "            <th>SensorID</th> <th>time</th> <th>latitude</th> <th>longitude</th> <th>bin0</th> <th>bin1</th> <th>bin2</th> <th>bin3</th> <th>bin4</th> <th>bin5</th> <th>bin6</th> <th>bin7</th> <th>bin8</th> <th>bin9</th> <th>bin10</th> <th>bin11</th> <th>bin12</th> <th>bin13</th> <th>bin14</th> <th>bin15</th> <th>bin16</th> <th>bin17</th> <th>bin18</th> <th>bin19</th> <th>bin20</th> <th>bin21</th> <th>bin22</th> <th>bin23</th> <th>temperature</th> <th>humidity</th> <th>pm1</th> <th>pm25</th> <th>pm10</th> <th>geometry</th> <th>index_right</th> <th>neighborhood</th> <th>boroughCode</th> <th>borough</th> <th>@id</th>\n",
              "        </tr>\n",
              "    </thead>\n",
              "    <tbody>\n",
              "        <tr>\n",
              "            <td>NYCP1_01A</td> <td>1579618560</td> <td>40.8472 </td> <td>-73.8701 </td> <td>23  </td> <td>1   </td> <td>2   </td> <td>0   </td> <td>0   </td> <td>0   </td> <td>1   </td> <td>0   </td> <td>0   </td> <td>0   </td> <td>0    </td> <td>0    </td> <td>0    </td> <td>0    </td> <td>0    </td> <td>0    </td> <td>0    </td> <td>0    </td> <td>0    </td> <td>0    </td> <td>0    </td> <td>0    </td> <td>0    </td> <td>0    </td> <td>16.3       </td> <td>15.2    </td> <td>1.44</td> <td>5.91</td> <td>11.35</td> <td>POINT (-73.870087 40.847183)</td> <td>38         </td> <td>Bronx Park  </td> <td>2          </td> <td>Bronx  </td> <td>http://nyc.pediacities.com/Resource/Neighborhood/Bronx_Park</td>\n",
              "        </tr>\n",
              "        <tr>\n",
              "            <td>NYCP1_01A</td> <td>1579618560</td> <td>40.8472 </td> <td>-73.8701 </td> <td>18  </td> <td>2   </td> <td>1   </td> <td>0   </td> <td>0   </td> <td>0   </td> <td>0   </td> <td>0   </td> <td>0   </td> <td>0   </td> <td>0    </td> <td>0    </td> <td>0    </td> <td>0    </td> <td>0    </td> <td>0    </td> <td>0    </td> <td>0    </td> <td>0    </td> <td>0    </td> <td>0    </td> <td>0    </td> <td>0    </td> <td>0    </td> <td>16.2       </td> <td>15.1    </td> <td>1.05</td> <td>1.18</td> <td>1.18 </td> <td>POINT (-73.870094 40.847183)</td> <td>38         </td> <td>Bronx Park  </td> <td>2          </td> <td>Bronx  </td> <td>http://nyc.pediacities.com/Resource/Neighborhood/Bronx_Park</td>\n",
              "        </tr>\n",
              "        <tr>\n",
              "            <td>NYCP1_01A</td> <td>1579618560</td> <td>40.8472 </td> <td>-73.8701 </td> <td>18  </td> <td>1   </td> <td>0   </td> <td>0   </td> <td>0   </td> <td>0   </td> <td>0   </td> <td>0   </td> <td>0   </td> <td>0   </td> <td>0    </td> <td>0    </td> <td>0    </td> <td>0    </td> <td>0    </td> <td>0    </td> <td>0    </td> <td>0    </td> <td>0    </td> <td>0    </td> <td>0    </td> <td>0    </td> <td>0    </td> <td>0    </td> <td>16.1       </td> <td>15.1    </td> <td>0.74</td> <td>0.76</td> <td>0.76 </td> <td>POINT (-73.870094 40.847179)</td> <td>38         </td> <td>Bronx Park  </td> <td>2          </td> <td>Bronx  </td> <td>http://nyc.pediacities.com/Resource/Neighborhood/Bronx_Park</td>\n",
              "        </tr>\n",
              "        <tr>\n",
              "            <td>NYCP1_01A</td> <td>1579618560</td> <td>40.8472 </td> <td>-73.8701 </td> <td>18  </td> <td>1   </td> <td>2   </td> <td>0   </td> <td>0   </td> <td>0   </td> <td>0   </td> <td>0   </td> <td>1   </td> <td>0   </td> <td>0    </td> <td>0    </td> <td>0    </td> <td>0    </td> <td>0    </td> <td>0    </td> <td>0    </td> <td>0    </td> <td>0    </td> <td>0    </td> <td>0    </td> <td>0    </td> <td>0    </td> <td>0    </td> <td>16.1       </td> <td>15.2    </td> <td>1.15</td> <td>4.48</td> <td>47.36</td> <td>POINT (-73.870094 40.847179)</td> <td>38         </td> <td>Bronx Park  </td> <td>2          </td> <td>Bronx  </td> <td>http://nyc.pediacities.com/Resource/Neighborhood/Bronx_Park</td>\n",
              "        </tr>\n",
              "        <tr>\n",
              "            <td>NYCP1_01A</td> <td>1579618560</td> <td>40.8472 </td> <td>-73.8701 </td> <td>20  </td> <td>3   </td> <td>0   </td> <td>2   </td> <td>2   </td> <td>0   </td> <td>0   </td> <td>0   </td> <td>0   </td> <td>0   </td> <td>0    </td> <td>0    </td> <td>0    </td> <td>0    </td> <td>0    </td> <td>0    </td> <td>0    </td> <td>0    </td> <td>0    </td> <td>0    </td> <td>0    </td> <td>0    </td> <td>0    </td> <td>0    </td> <td>16         </td> <td>15.2    </td> <td>2.13</td> <td>5.77</td> <td>6.18 </td> <td>POINT (-73.870094 40.847179)</td> <td>38         </td> <td>Bronx Park  </td> <td>2          </td> <td>Bronx  </td> <td>http://nyc.pediacities.com/Resource/Neighborhood/Bronx_Park</td>\n",
              "        </tr>\n",
              "        <tr>\n",
              "            <td>NYCP1_01A</td> <td>1579618560</td> <td>40.8472 </td> <td>-73.8701 </td> <td>20  </td> <td>0   </td> <td>0   </td> <td>0   </td> <td>0   </td> <td>0   </td> <td>0   </td> <td>0   </td> <td>0   </td> <td>0   </td> <td>0    </td> <td>0    </td> <td>0    </td> <td>0    </td> <td>0    </td> <td>0    </td> <td>0    </td> <td>0    </td> <td>0    </td> <td>0    </td> <td>0    </td> <td>0    </td> <td>0    </td> <td>0    </td> <td>15.9       </td> <td>15.3    </td> <td>0.72</td> <td>0.73</td> <td>0.73 </td> <td>POINT (-73.870094 40.847176)</td> <td>38         </td> <td>Bronx Park  </td> <td>2          </td> <td>Bronx  </td> <td>http://nyc.pediacities.com/Resource/Neighborhood/Bronx_Park</td>\n",
              "        </tr>\n",
              "        <tr>\n",
              "            <td>NYCP1_01A</td> <td>1579618560</td> <td>40.8472 </td> <td>-73.8701 </td> <td>17  </td> <td>3   </td> <td>1   </td> <td>0   </td> <td>0   </td> <td>0   </td> <td>0   </td> <td>0   </td> <td>0   </td> <td>0   </td> <td>0    </td> <td>0    </td> <td>0    </td> <td>0    </td> <td>0    </td> <td>0    </td> <td>0    </td> <td>0    </td> <td>0    </td> <td>0    </td> <td>0    </td> <td>0    </td> <td>0    </td> <td>0    </td> <td>15.8       </td> <td>15.4    </td> <td>1.09</td> <td>1.22</td> <td>1.22 </td> <td>POINT (-73.870102 40.847172)</td> <td>38         </td> <td>Bronx Park  </td> <td>2          </td> <td>Bronx  </td> <td>http://nyc.pediacities.com/Resource/Neighborhood/Bronx_Park</td>\n",
              "        </tr>\n",
              "        <tr>\n",
              "            <td>NYCP1_01A</td> <td>1579618560</td> <td>40.8472 </td> <td>-73.8701 </td> <td>31  </td> <td>4   </td> <td>0   </td> <td>0   </td> <td>0   </td> <td>1   </td> <td>0   </td> <td>0   </td> <td>0   </td> <td>0   </td> <td>0    </td> <td>0    </td> <td>0    </td> <td>0    </td> <td>0    </td> <td>0    </td> <td>0    </td> <td>0    </td> <td>0    </td> <td>0    </td> <td>0    </td> <td>0    </td> <td>0    </td> <td>0    </td> <td>15.8       </td> <td>15.4    </td> <td>1.69</td> <td>4.57</td> <td>5.82 </td> <td>POINT (-73.870094 40.847176)</td> <td>38         </td> <td>Bronx Park  </td> <td>2          </td> <td>Bronx  </td> <td>http://nyc.pediacities.com/Resource/Neighborhood/Bronx_Park</td>\n",
              "        </tr>\n",
              "        <tr>\n",
              "            <td>NYCP1_01A</td> <td>1579618560</td> <td>40.8472 </td> <td>-73.8701 </td> <td>22  </td> <td>5   </td> <td>0   </td> <td>0   </td> <td>0   </td> <td>0   </td> <td>1   </td> <td>0   </td> <td>0   </td> <td>0   </td> <td>0    </td> <td>0    </td> <td>0    </td> <td>0    </td> <td>0    </td> <td>0    </td> <td>0    </td> <td>0    </td> <td>0    </td> <td>0    </td> <td>0    </td> <td>0    </td> <td>0    </td> <td>0    </td> <td>15.7       </td> <td>15.5    </td> <td>1.33</td> <td>5.61</td> <td>11.04</td> <td>POINT (-73.870102 40.847172)</td> <td>38         </td> <td>Bronx Park  </td> <td>2          </td> <td>Bronx  </td> <td>http://nyc.pediacities.com/Resource/Neighborhood/Bronx_Park</td>\n",
              "        </tr>\n",
              "        <tr>\n",
              "            <td>NYCP1_01A</td> <td>1579618560</td> <td>40.8472 </td> <td>-73.8701 </td> <td>22  </td> <td>5   </td> <td>0   </td> <td>0   </td> <td>0   </td> <td>0   </td> <td>0   </td> <td>0   </td> <td>0   </td> <td>0   </td> <td>0    </td> <td>0    </td> <td>0    </td> <td>0    </td> <td>0    </td> <td>0    </td> <td>0    </td> <td>0    </td> <td>0    </td> <td>0    </td> <td>0    </td> <td>0    </td> <td>0    </td> <td>0    </td> <td>15.6       </td> <td>15.6    </td> <td>1.24</td> <td>1.29</td> <td>1.29 </td> <td>POINT (-73.870094 40.847168)</td> <td>38         </td> <td>Bronx Park  </td> <td>2          </td> <td>Bronx  </td> <td>http://nyc.pediacities.com/Resource/Neighborhood/Bronx_Park</td>\n",
              "        </tr>\n",
              "    </tbody>\n",
              "</table>\n",
              "<p>... (118485 rows omitted)</p>"
            ]
          },
          "metadata": {}
        }
      ]
    },
    {
      "cell_type": "code",
      "source": [
        "# Counting number of sensors in each PM25_Category\n",
        "countTable = categTable.group('PM25_Category')\n",
        "\n",
        "countTable.show()"
      ],
      "metadata": {
        "colab": {
          "base_uri": "https://localhost:8080/",
          "height": 143
        },
        "id": "RTJhlSEIMy_0",
        "outputId": "5c6c5996-6cd1-4141-a611-d0633e47d2ba"
      },
      "execution_count": 54,
      "outputs": [
        {
          "output_type": "display_data",
          "data": {
            "text/plain": [
              "<IPython.core.display.HTML object>"
            ],
            "text/html": [
              "<table border=\"1\" class=\"dataframe\">\n",
              "    <thead>\n",
              "        <tr>\n",
              "            <th>PM25_Category</th> <th>count</th>\n",
              "        </tr>\n",
              "    </thead>\n",
              "    <tbody>\n",
              "        <tr>\n",
              "            <td>Good         </td> <td>101851</td>\n",
              "        </tr>\n",
              "        <tr>\n",
              "            <td>Moderate     </td> <td>12651 </td>\n",
              "        </tr>\n",
              "        <tr>\n",
              "            <td>Unhealthy    </td> <td>3993  </td>\n",
              "        </tr>\n",
              "    </tbody>\n",
              "</table>"
            ]
          },
          "metadata": {}
        }
      ]
    },
    {
      "cell_type": "markdown",
      "source": [
        "# Task 5: Simulate Random Sampling Using Tables (1 Mark)\n",
        "- Randomly sample 10% of the rows from the table without replacement using .sample().\n",
        "- Calculate the mean pm25 level for the sampled data.\n",
        "- Repeat the random sampling process 100 times and store the mean pm25 values from each iteration in a list.\n",
        "- Create a histogram of the 100 mean pm25 values to visualize the distribution of sample means."
      ],
      "metadata": {
        "id": "QPc8TD9i2CCu"
      }
    },
    {
      "cell_type": "code",
      "source": [
        "#Randomly sample 10% of the rows from the table without replacement using .sample().\n",
        "\n",
        "# Calculate 10% of the total rows & Randomly sample the rows without replacement\n",
        "sampleSize = int(table1.num_rows * 0.10)\n",
        "sampleTable = table1.sample(sampleSize, with_replacement=False)\n",
        "\n",
        "#print number of rows in sampleTable\n",
        "print(sampleTable.num_rows)"
      ],
      "metadata": {
        "colab": {
          "base_uri": "https://localhost:8080/"
        },
        "id": "69n_auroidGO",
        "outputId": "6f4f5867-c937-4fb0-e63a-d53b8bd7e7d4"
      },
      "execution_count": 55,
      "outputs": [
        {
          "output_type": "stream",
          "name": "stdout",
          "text": [
            "11849\n"
          ]
        }
      ]
    },
    {
      "cell_type": "code",
      "source": [
        "#Calculate the mean pm25 level for the sampled data.\n",
        "pm25Mean = sampleTable.column('pm25').mean()\n",
        "\n",
        "print(pm25Mean)"
      ],
      "metadata": {
        "colab": {
          "base_uri": "https://localhost:8080/"
        },
        "id": "0iFOmpx2jDek",
        "outputId": "a82a453c-53d7-4ab0-d67a-ced4a00de111"
      },
      "execution_count": 56,
      "outputs": [
        {
          "output_type": "stream",
          "name": "stdout",
          "text": [
            "7.71519115537\n"
          ]
        }
      ]
    },
    {
      "cell_type": "code",
      "source": [
        "#Repeat the random sampling process 100 times and store the mean pm25 values from each iteration in a list.\n",
        "\n",
        "# create list to store mean of pm25 values\n",
        "sampleMeansPm25 = []\n",
        "\n",
        "# sampling for 100 times\n",
        "for _ in range(100):\n",
        "    # Randomly select 10% of the rows without replacement then calculate the mean of pm25\n",
        "    sampleTable = table1.sample(sampleSize, with_replacement=False)\n",
        "    pm25_mean = np.mean(sampleTable.column(\"pm25\"))\n",
        "\n",
        "    # Store the mean in the list\n",
        "    sampleMeansPm25.append(pm25_mean)"
      ],
      "metadata": {
        "id": "xMRU-y_djNmK"
      },
      "execution_count": 57,
      "outputs": []
    },
    {
      "cell_type": "code",
      "source": [
        "#Create a histogram of the 100 mean pm25 values to visualize the distribution of sample means (bins=10), then plot it.\n",
        "plt.hist(sampleMeansPm25, bins=10)\n",
        "plt.xlabel(\"Mean pm25 Levels\")\n",
        "plt.ylabel(\"Frequency\")\n",
        "plt.title(\"Distribution of pm25 mean values (100 iterations)\")\n",
        "plt.show()"
      ],
      "metadata": {
        "colab": {
          "base_uri": "https://localhost:8080/",
          "height": 508
        },
        "id": "T964ltHukpjK",
        "outputId": "ec3d4a34-a5d7-43e7-c783-81244bf2b0cf"
      },
      "execution_count": 58,
      "outputs": [
        {
          "output_type": "display_data",
          "data": {
            "text/plain": [
              "<Figure size 640x480 with 1 Axes>"
            ],
            "image/png": "[encoded data removed]"
          },
          "metadata": {}
        }
      ]
    },
    {
      "cell_type": "markdown",
      "source": [
        "# Submission Guidelines\n",
        "- Add a \"Open in Colab\" button at the top of your notebook using the following Markdown code:\n",
        "[![Open In Colab](https://colab.research.google.com/assets/colab-badge.svg)](https://colab.research.google.com/github/your-repo-path/notebook.ipynb)\n",
        "\n",
        "- Upload your completed Jupyter Notebook to a GitHub repository.\n",
        "- Submit the link to your GitHub repository in the Blackboard LMS along with the Jupyter solution file.\n",
        "- <font color = red size = 6> ATTENTION!!! </font> Students are encouraged to work on groups, however the submission should be individual and each student should have her/his own unique final assignment solution, which is to be submitted in BB"
      ],
      "metadata": {
        "id": "kM16Gy602H1X"
      }
    },
    {
      "cell_type": "markdown",
      "source": [
        "# Grading Rubric\n",
        "- Each task is worth 1 mark , based on the following criteria:\n",
        "\n",
        "- Correctness : The solution produces the expected output using the Table abstraction .\n",
        "- Clarity : Code is well-organized, readable, and includes comments explaining key steps.\n",
        "- Creativity : Visualizations and analyses are presented in an engaging and insightful manner."
      ],
      "metadata": {
        "id": "dY2-OB4A2huX"
      }
    },
    {
      "cell_type": "markdown",
      "source": [
        "# Hints for Success\n",
        "- Use the Table abstraction methods like .select(), .where(), .group(), .apply(), and .sample() for data manipulation.\n",
        "- Refer to the slides and examples from book Chapters 6, 7, 8, and 9 for guidance on tables, functions, visualizations, and randomness.\n",
        "- Test your code frequently to ensure it runs without errors."
      ],
      "metadata": {
        "id": "0GlfWQnV2r9v"
      }
    }
  ]
}